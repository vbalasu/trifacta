{
 "cells": [
  {
   "cell_type": "markdown",
   "metadata": {},
   "source": [
    "# trifacta\n",
    "\n",
    "Trifacta client that makes it easy to integrate Trifacta into your production and data science workflows\n",
    "\n",
    "### Usage Scenarios\n",
    "- **Jupyter**: Invoke Trifacta jobs from a Jupyter notebook and pass data back and forth between Jupyter and Trifacta\n",
    "- **Other Notebooks**: Integrate Trifacta with Azure Databricks, Zepellin or any other notebook-style interface that supports Python\n",
    "- **Scripts**: Automate Trifacta jobs and input/output using python scripts that can be easily executed from the command line or called from an external scheduler\n",
    "\n",
    "### Functionality\n",
    "This library makes it simple to do the following:\n",
    "1. Connect to a Trifacta instance\n",
    "2. Run a job\n",
    "3. Download results to a csv file and view in pandas dataframe\n",
    "\n",
    "Note that file uploads and downloads are performed using Amazon S3, using the boto3 API"
   ]
  },
  {
   "cell_type": "code",
   "execution_count": 1,
   "metadata": {
    "collapsed": true
   },
   "outputs": [],
   "source": [
    "#!pip install trifacta\n",
    "import trifacta"
   ]
  },
  {
   "cell_type": "markdown",
   "metadata": {},
   "source": [
    "If you need an access token, you can generate it as follows:\n",
    "\n",
    "<img src=\"https://github.com/vbalasu/trifacta/raw/master/media/generate_token.png\" width=500px />"
   ]
  },
  {
   "cell_type": "code",
   "execution_count": 2,
   "metadata": {
    "collapsed": true
   },
   "outputs": [],
   "source": [
    "#Step 1: Connect to Trifacta by providing the URL and API Access Token\n",
    "t = trifacta.Client('http://partnerdemo.amer.trifacta.net:3005', 'YOUR_ACCESS_TOKEN')"
   ]
  },
  {
   "cell_type": "markdown",
   "metadata": {},
   "source": [
    "#### Get the wrangled dataset id from the URL in the Trifacta UI\n",
    "Make sure that you have run the job manually at least once\n",
    "![Edit recipe](https://github.com/vbalasu/trifacta/raw/master/media/edit_recipe.png)\n",
    "\n",
    "#### Note the output path (be sure to set it to \"replace\")\n",
    "![Publish settings](https://github.com/vbalasu/trifacta/raw/master/media/publish_settings.png)"
   ]
  },
  {
   "cell_type": "code",
   "execution_count": 3,
   "metadata": {},
   "outputs": [
    {
     "name": "stdout",
     "output_type": "stream",
     "text": [
      "About to run job\n",
      "{'sessionId': '9d339e65-8898-4165-871b-b9db848dc099', 'reason': 'JobStarted', 'jobGraph': {'vertices': [76, 77], 'edges': [{'source': 76, 'target': 77}]}, 'id': 42, 'jobs': {'data': [{'id': 76}, {'id': 77}]}}\n",
      "2020-02-25 11:19:58.508231 InProgress\n",
      "2020-02-25 11:20:03.700189 InProgress\n",
      "2020-02-25 11:20:08.887794 Complete\n"
     ]
    },
    {
     "data": {
      "text/plain": [
       "True"
      ]
     },
     "execution_count": 3,
     "metadata": {},
     "output_type": "execute_result"
    }
   ],
   "source": [
    "#Step 2: Run the job\n",
    "t.run_job(23)"
   ]
  },
  {
   "cell_type": "code",
   "execution_count": 4,
   "metadata": {},
   "outputs": [
    {
     "name": "stdout",
     "output_type": "stream",
     "text": [
      "env: AWS_PROFILE=trifacta_master_trial\n"
     ]
    }
   ],
   "source": [
    "%env AWS_PROFILE=trifacta_master_trial"
   ]
  },
  {
   "cell_type": "code",
   "execution_count": 5,
   "metadata": {},
   "outputs": [],
   "source": [
    "#Step 3: Download results to a csv file and view in pandas dataframe\n",
    "import boto3\n",
    "s3 = boto3.client('s3', region_name='us-west-2')"
   ]
  },
  {
   "cell_type": "code",
   "execution_count": 7,
   "metadata": {},
   "outputs": [],
   "source": [
    "s3.download_file(Bucket='trifacta-partnerdemo-trifactabucket-kkcpnw234feu',\n",
    "                Key='trifacta/queryResults/admin@trifacta.local/MarketingAnalytics.csv',\n",
    "                Filename='MarketingAnalytics.csv')"
   ]
  },
  {
   "cell_type": "code",
   "execution_count": 9,
   "metadata": {
    "collapsed": true
   },
   "outputs": [],
   "source": [
    "import pandas as pd\n",
    "df = pd.read_csv('MarketingAnalytics.csv')"
   ]
  },
  {
   "cell_type": "code",
   "execution_count": 10,
   "metadata": {},
   "outputs": [
    {
     "data": {
      "text/html": [
       "<div>\n",
       "<style scoped>\n",
       "    .dataframe tbody tr th:only-of-type {\n",
       "        vertical-align: middle;\n",
       "    }\n",
       "\n",
       "    .dataframe tbody tr th {\n",
       "        vertical-align: top;\n",
       "    }\n",
       "\n",
       "    .dataframe thead th {\n",
       "        text-align: right;\n",
       "    }\n",
       "</style>\n",
       "<table border=\"1\" class=\"dataframe\">\n",
       "  <thead>\n",
       "    <tr style=\"text-align: right;\">\n",
       "      <th></th>\n",
       "      <th>user_id</th>\n",
       "      <th>customerkey</th>\n",
       "      <th>event_type</th>\n",
       "      <th>event_subtype</th>\n",
       "      <th>Date</th>\n",
       "      <th>advertiser_id</th>\n",
       "      <th>creative_id</th>\n",
       "      <th>url</th>\n",
       "      <th>product_id</th>\n",
       "      <th>domain_url</th>\n",
       "      <th>...</th>\n",
       "      <th>customeraccount_number</th>\n",
       "      <th>customerphone</th>\n",
       "      <th>customeraddress</th>\n",
       "      <th>cusotmerstate</th>\n",
       "      <th>customerzipcode</th>\n",
       "      <th>customercountry</th>\n",
       "      <th>socialmedia</th>\n",
       "      <th>totalsale</th>\n",
       "      <th>Outlier_Identifier</th>\n",
       "      <th>currencykey</th>\n",
       "    </tr>\n",
       "  </thead>\n",
       "  <tbody>\n",
       "    <tr>\n",
       "      <th>0</th>\n",
       "      <td>1126310400000-424</td>\n",
       "      <td>1126310400000-424</td>\n",
       "      <td>click</td>\n",
       "      <td>click</td>\n",
       "      <td>10-19-2005</td>\n",
       "      <td>164332</td>\n",
       "      <td>543027</td>\n",
       "      <td>http://zdnet.com/praesent/lectus/vestibulum/qu...</td>\n",
       "      <td>1124064000000-475</td>\n",
       "      <td>zdnet</td>\n",
       "      <td>...</td>\n",
       "      <td>310170445527596</td>\n",
       "      <td>(817)718-7309</td>\n",
       "      <td>156 Cozy Berry Arc</td>\n",
       "      <td>CA</td>\n",
       "      <td>78710</td>\n",
       "      <td>USA</td>\n",
       "      <td>deneleaf</td>\n",
       "      <td>7004.54</td>\n",
       "      <td>False</td>\n",
       "      <td>1</td>\n",
       "    </tr>\n",
       "    <tr>\n",
       "      <th>1</th>\n",
       "      <td>1229126400000-20</td>\n",
       "      <td>1229126400000-20</td>\n",
       "      <td>click</td>\n",
       "      <td>click</td>\n",
       "      <td>08-17-2009</td>\n",
       "      <td>164332</td>\n",
       "      <td>252030</td>\n",
       "      <td>http://hostgator.com/a/feugiat.js?pid=12331008...</td>\n",
       "      <td>1233100800000-528</td>\n",
       "      <td>hostgator</td>\n",
       "      <td>...</td>\n",
       "      <td>310150240507900</td>\n",
       "      <td>(469)201-1812</td>\n",
       "      <td>3641 Euismod Avenue</td>\n",
       "      <td>CA</td>\n",
       "      <td>10769</td>\n",
       "      <td>USA</td>\n",
       "      <td>kinphanng</td>\n",
       "      <td>4853.35</td>\n",
       "      <td>False</td>\n",
       "      <td>1</td>\n",
       "    </tr>\n",
       "    <tr>\n",
       "      <th>2</th>\n",
       "      <td>1126828800000-518</td>\n",
       "      <td>1126828800000-518</td>\n",
       "      <td>view</td>\n",
       "      <td>view</td>\n",
       "      <td>04-05-2006</td>\n",
       "      <td>164332</td>\n",
       "      <td>562765</td>\n",
       "      <td>http://fc2.com/convallis/duis/consequat/dui/ne...</td>\n",
       "      <td>1121904000000-509</td>\n",
       "      <td>fc2</td>\n",
       "      <td>...</td>\n",
       "      <td>310170133079761</td>\n",
       "      <td>(443)585-1769</td>\n",
       "      <td>Ap #543-7410 Accumsan Rd.</td>\n",
       "      <td>CA</td>\n",
       "      <td>92845</td>\n",
       "      <td>USA</td>\n",
       "      <td>waldeelbailarin</td>\n",
       "      <td>6885.15</td>\n",
       "      <td>False</td>\n",
       "      <td>1</td>\n",
       "    </tr>\n",
       "    <tr>\n",
       "      <th>3</th>\n",
       "      <td>1130112000000-336</td>\n",
       "      <td>1130112000000-336</td>\n",
       "      <td>click</td>\n",
       "      <td>click</td>\n",
       "      <td>04-05-2006</td>\n",
       "      <td>164332</td>\n",
       "      <td>466942</td>\n",
       "      <td>http://biblegateway.com/est/phasellus/sit/amet...</td>\n",
       "      <td>1130284800000-343</td>\n",
       "      <td>biblegateway</td>\n",
       "      <td>...</td>\n",
       "      <td>310120073380564</td>\n",
       "      <td>(215)669-3055</td>\n",
       "      <td>900-8123 Aliquam Av.</td>\n",
       "      <td>CA</td>\n",
       "      <td>85517</td>\n",
       "      <td>USA</td>\n",
       "      <td>charlrey</td>\n",
       "      <td>2593.31</td>\n",
       "      <td>False</td>\n",
       "      <td>1</td>\n",
       "    </tr>\n",
       "    <tr>\n",
       "      <th>4</th>\n",
       "      <td>1121990400000-216</td>\n",
       "      <td>1121990400000-216</td>\n",
       "      <td>view</td>\n",
       "      <td>view</td>\n",
       "      <td>09-27-2005</td>\n",
       "      <td>164332</td>\n",
       "      <td>400316</td>\n",
       "      <td>https://zdnet.com/elementum/nullam/varius/null...</td>\n",
       "      <td>1108339200000-416</td>\n",
       "      <td>zdnet</td>\n",
       "      <td>...</td>\n",
       "      <td>310160496868669</td>\n",
       "      <td>301 742 1112</td>\n",
       "      <td>164 Cozy Anchor Rd</td>\n",
       "      <td>CA</td>\n",
       "      <td>60101</td>\n",
       "      <td>USA</td>\n",
       "      <td>scottylago</td>\n",
       "      <td>3958.25</td>\n",
       "      <td>False</td>\n",
       "      <td>1</td>\n",
       "    </tr>\n",
       "  </tbody>\n",
       "</table>\n",
       "<p>5 rows × 31 columns</p>\n",
       "</div>"
      ],
      "text/plain": [
       "             user_id        customerkey event_type event_subtype        Date  \\\n",
       "0  1126310400000-424  1126310400000-424      click         click  10-19-2005   \n",
       "1   1229126400000-20   1229126400000-20      click         click  08-17-2009   \n",
       "2  1126828800000-518  1126828800000-518       view          view  04-05-2006   \n",
       "3  1130112000000-336  1130112000000-336      click         click  04-05-2006   \n",
       "4  1121990400000-216  1121990400000-216       view          view  09-27-2005   \n",
       "\n",
       "   advertiser_id  creative_id  \\\n",
       "0         164332       543027   \n",
       "1         164332       252030   \n",
       "2         164332       562765   \n",
       "3         164332       466942   \n",
       "4         164332       400316   \n",
       "\n",
       "                                                 url         product_id  \\\n",
       "0  http://zdnet.com/praesent/lectus/vestibulum/qu...  1124064000000-475   \n",
       "1  http://hostgator.com/a/feugiat.js?pid=12331008...  1233100800000-528   \n",
       "2  http://fc2.com/convallis/duis/consequat/dui/ne...  1121904000000-509   \n",
       "3  http://biblegateway.com/est/phasellus/sit/amet...  1130284800000-343   \n",
       "4  https://zdnet.com/elementum/nullam/varius/null...  1108339200000-416   \n",
       "\n",
       "     domain_url     ...     customeraccount_number  customerphone  \\\n",
       "0         zdnet     ...            310170445527596  (817)718-7309   \n",
       "1     hostgator     ...            310150240507900  (469)201-1812   \n",
       "2           fc2     ...            310170133079761  (443)585-1769   \n",
       "3  biblegateway     ...            310120073380564  (215)669-3055   \n",
       "4         zdnet     ...            310160496868669   301 742 1112   \n",
       "\n",
       "             customeraddress cusotmerstate  customerzipcode customercountry  \\\n",
       "0         156 Cozy Berry Arc            CA            78710             USA   \n",
       "1        3641 Euismod Avenue            CA            10769             USA   \n",
       "2  Ap #543-7410 Accumsan Rd.            CA            92845             USA   \n",
       "3       900-8123 Aliquam Av.            CA            85517             USA   \n",
       "4         164 Cozy Anchor Rd            CA            60101             USA   \n",
       "\n",
       "       socialmedia totalsale Outlier_Identifier currencykey  \n",
       "0         deneleaf   7004.54              False           1  \n",
       "1        kinphanng   4853.35              False           1  \n",
       "2  waldeelbailarin   6885.15              False           1  \n",
       "3         charlrey   2593.31              False           1  \n",
       "4       scottylago   3958.25              False           1  \n",
       "\n",
       "[5 rows x 31 columns]"
      ]
     },
     "execution_count": 10,
     "metadata": {},
     "output_type": "execute_result"
    }
   ],
   "source": [
    "df.head()"
   ]
  }
 ],
 "metadata": {
  "kernelspec": {
   "display_name": "Python 3",
   "language": "python",
   "name": "python3"
  },
  "language_info": {
   "codemirror_mode": {
    "name": "ipython",
    "version": 3
   },
   "file_extension": ".py",
   "mimetype": "text/x-python",
   "name": "python",
   "nbconvert_exporter": "python",
   "pygments_lexer": "ipython3",
   "version": "3.7.1"
  }
 },
 "nbformat": 4,
 "nbformat_minor": 2
}
